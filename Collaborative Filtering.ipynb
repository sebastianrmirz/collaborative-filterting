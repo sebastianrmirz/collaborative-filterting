{
 "cells": [
  {
   "cell_type": "markdown",
   "metadata": {},
   "source": [
    "# Collaborative Filtering"
   ]
  },
  {
   "cell_type": "markdown",
   "metadata": {},
   "source": [
    "Given vectors of item ratings by two people, how similar are the two people?"
   ]
  },
  {
   "cell_type": "code",
   "execution_count": 2,
   "metadata": {
    "collapsed": true
   },
   "outputs": [],
   "source": [
    "import math\n",
    "\n",
    "def pearsons(r, i, j, num_items):\n",
    "    \"\"\" Computes pearsons similarity coefficient. Coefficient is a quantity between -1 and 1\n",
    "        where 1 means identical and -1 completely opposite\n",
    "\n",
    "        parameters\n",
    "        r         -- vector of ratings, where r[i][k] represents the rating user i gave to item k\n",
    "        i         -- user i\n",
    "        j         -- user j\n",
    "        num_items -- number of items\n",
    "    \"\"\"\n",
    "\n",
    "    avg_r_i = sum(r[i])/len(r[i])\n",
    "    avg_r_j = sum(r[j])/len(r[j])\n",
    "\n",
    "    i_ratings = [(r[i][k] - avg_r_i) for k in range(num_items)]\n",
    "    j_ratings = [(r[j][k] - avg_r_j)for k in range(num_items)]\n",
    "\n",
    "    sim = sum(a * b for a,b in zip(i_ratings, j_ratings))\n",
    "\n",
    "    i_sqrd = (a*a for a in i_ratings)\n",
    "    j_sqrd = (b*b for b in j_ratings)\n",
    "\n",
    "    var = math.sqrt(sum(i_sqrd)) * math.sqrt(sum(j_sqrd))\n",
    "\n",
    "    return sim / var"
   ]
  },
  {
   "cell_type": "code",
   "execution_count": 3,
   "metadata": {
    "collapsed": false
   },
   "outputs": [
    {
     "data": {
      "text/plain": [
       "0.3273268353539885"
      ]
     },
     "execution_count": 3,
     "metadata": {},
     "output_type": "execute_result"
    }
   ],
   "source": [
    "bob_ratings = [1,2,3]\n",
    "alice_rattings = [2,5,3]\n",
    "pearsons([bob_ratings, alice_rattings], 0, 1, 3)"
   ]
  },
  {
   "cell_type": "code",
   "execution_count": 4,
   "metadata": {
    "collapsed": false
   },
   "outputs": [
    {
     "data": {
      "text/plain": [
       "0.9999999999999998"
      ]
     },
     "execution_count": 4,
     "metadata": {},
     "output_type": "execute_result"
    }
   ],
   "source": [
    "pearsons([bob_ratings, bob_ratings], 0, 1, 3)"
   ]
  },
  {
   "cell_type": "code",
   "execution_count": 5,
   "metadata": {
    "collapsed": false
   },
   "outputs": [
    {
     "data": {
      "text/plain": [
       "-0.9819805060619655"
      ]
     },
     "execution_count": 5,
     "metadata": {},
     "output_type": "execute_result"
    }
   ],
   "source": [
    "anti_bob = [10, 8, 7]\n",
    "pearsons([bob_ratings, anti_bob], 0, 1, 3)"
   ]
  },
  {
   "cell_type": "code",
   "execution_count": null,
   "metadata": {
    "collapsed": true
   },
   "outputs": [],
   "source": []
  }
 ],
 "metadata": {
  "kernelspec": {
   "display_name": "Python 3",
   "language": "python",
   "name": "python3"
  },
  "language_info": {
   "codemirror_mode": {
    "name": "ipython",
    "version": 3
   },
   "file_extension": ".py",
   "mimetype": "text/x-python",
   "name": "python",
   "nbconvert_exporter": "python",
   "pygments_lexer": "ipython3",
   "version": "3.6.0"
  }
 },
 "nbformat": 4,
 "nbformat_minor": 2
}
